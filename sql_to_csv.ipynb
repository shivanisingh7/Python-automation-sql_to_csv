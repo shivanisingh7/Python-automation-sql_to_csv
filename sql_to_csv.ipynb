{
 "cells": [
  {
   "cell_type": "code",
   "execution_count": 1,
   "id": "d8238f5b-ba0e-4b1b-a081-5bfd772e718d",
   "metadata": {},
   "outputs": [
    {
     "name": "stdout",
     "output_type": "stream",
     "text": [
      "['BusinessEntityID', 'PasswordHash', 'rowguid']\n"
     ]
    }
   ],
   "source": [
    "import win32com.client\n",
    "import pandas as pd\n",
    "from datetime import datetime\n",
    "\n",
    "Connection_string = (\n",
    "    'Provider=MSOLEDBSQL;'\n",
    "    'Data Source=SHIVANI\\\\SQLEXPRESS;'\n",
    "    'Initial Catalog=AdventureWorks2022;'\n",
    "    'Integrated Security=SSPI;'\n",
    ")\n",
    "\n",
    "conn = win32com.client.Dispatch('ADODB.Connection')\n",
    "conn.Open(Connection_string)\n",
    "\n",
    "# Use the connection to execute a SQL query\n",
    "sql_query = \"SELECT BusinessEntityID, PasswordHash, rowguid FROM Person.Password\"\n",
    "recordset = win32com.client.Dispatch('ADODB.Recordset')\n",
    "recordset.Open(sql_query, conn)\n",
    "\n",
    "columns = [field.Name for field in recordset.Fields]\n",
    "print(columns)  # Print the field names to check\n",
    "\n",
    "# Load the data into a list\n",
    "data = []\n",
    "while not recordset.EOF:\n",
    "    row_data = [recordset.Fields.Item(field).Value for field in columns]\n",
    "    data.append(row_data)\n",
    "    recordset.MoveNext()\n",
    "\n",
    "# Close the connections\n",
    "recordset.Close()\n",
    "conn.Close()\n",
    "\n",
    "# Create the DataFrame\n",
    "DF = pd.DataFrame(data, columns=columns)\n",
    "\n",
    "# Save DataFrame to CSV\n",
    "DF.to_csv(datetime.now().strftime(\"%Y-%m-%d_%I-%M-%S-%p\") + 'Sql_user_password_Data.csv', index=False)"
   ]
  },
  {
   "cell_type": "code",
   "execution_count": null,
   "id": "f44c8029-01dd-4c67-8379-9df7d6744d44",
   "metadata": {},
   "outputs": [],
   "source": []
  }
 ],
 "metadata": {
  "kernelspec": {
   "display_name": "Python 3 (ipykernel)",
   "language": "python",
   "name": "python3"
  },
  "language_info": {
   "codemirror_mode": {
    "name": "ipython",
    "version": 3
   },
   "file_extension": ".py",
   "mimetype": "text/x-python",
   "name": "python",
   "nbconvert_exporter": "python",
   "pygments_lexer": "ipython3",
   "version": "3.10.9"
  }
 },
 "nbformat": 4,
 "nbformat_minor": 5
}
